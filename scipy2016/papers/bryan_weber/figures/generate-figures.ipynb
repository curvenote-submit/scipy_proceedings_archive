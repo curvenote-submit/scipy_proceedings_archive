{
 "cells": [
  {
   "cell_type": "code",
   "execution_count": null,
   "metadata": {
    "collapsed": false
   },
   "outputs": [],
   "source": [
    "from scipy import signal\n",
    "from scipy.fftpack import fft\n",
    "import uconnrcmpy as ucr\n",
    "import numpy as np\n",
    "from pathlib import Path\n",
    "from subprocess import run\n",
    "import matplotlib.pyplot as plt\n",
    "from mpl_toolkits.axes_grid1.inset_locator import zoomed_inset_axes, mark_inset, BboxConnector\n",
    "\n",
    "# %matplotlib"
   ]
  },
  {
   "cell_type": "code",
   "execution_count": null,
   "metadata": {
    "collapsed": false
   },
   "outputs": [],
   "source": [
    "plt.rc('font', family='serif', serif='Times New Roman', size=22.0)\n",
    "plt.rc('mathtext', fontset='stix')\n",
    "dpi = '300'"
   ]
  },
  {
   "cell_type": "markdown",
   "metadata": {},
   "source": [
    "# Draw the Raw Voltage Trace figure"
   ]
  },
  {
   "cell_type": "code",
   "execution_count": null,
   "metadata": {
    "collapsed": false
   },
   "outputs": [],
   "source": [
    "volt_trace = ucr.traces.VoltageTrace(Path('10_in_00_mm_333K-979t-100x-13-Jul-15-1349.txt'))\n",
    "raw_color = 'blue'\n",
    "filt_color = 'limegreen'\n",
    "sm_color = 'red'\n",
    "raw_fig, raw_ax = plt.subplots(figsize=[14, 9])\n",
    "raw_ax.plot(volt_trace.time*1000, volt_trace.signal[:, 1], label=\"Original\", color=raw_color)\n",
    "raw_ax.plot(volt_trace.time*1000, volt_trace.filtered_voltage, label=\"Filtered\", color=filt_color)\n",
    "raw_ax.plot(volt_trace.time*1000, volt_trace.smoothed_voltage, label=\"Filtered & Smoothed\", color=sm_color)\n",
    "raw_ax.set_xlim([160, 240])\n",
    "raw_ax.set_ylim([-0.01, 1.01])\n",
    "raw_ax.set_xlabel('Time [ms]')\n",
    "raw_ax.set_ylabel('Voltage [V]')\n",
    "raw_ax_legend = raw_ax.legend(bbox_to_anchor=(0., 1.02, 1., .102), loc=3,\n",
    "                              ncol=3, mode=\"expand\", borderaxespad=0.)\n",
    "\n",
    "for leg in raw_ax_legend.legendHandles:\n",
    "    leg.set_linewidth(2.0)\n",
    "    \n",
    "raw_ax.axhline(y=0, color=\"grey\")\n",
    "\n",
    "# Create the zoomed inset\n",
    "raw_inset = zoomed_inset_axes(raw_ax, 35, loc=6, bbox_to_anchor=raw_ax.transData.transform((165, 0.6)))\n",
    "raw_inset.plot(volt_trace.time*1000, volt_trace.signal[:, 1], color=raw_color)\n",
    "raw_inset.plot(volt_trace.time*1000, volt_trace.filtered_voltage, linewidth=3.0, color=filt_color)\n",
    "raw_inset.plot(volt_trace.time*1000, volt_trace.smoothed_voltage, color=sm_color)\n",
    "raw_inset.set_xlim([191.5, 193.25])\n",
    "raw_inset.set_ylim([0.278, 0.29])\n",
    "xticks = raw_inset.get_xticks()\n",
    "raw_inset.set_xticks(xticks[1:-1])\n",
    "raw_inset.annotate('(a)', (191.55, 0.2885), backgroundcolor='white')\n",
    "\n",
    "pp, p1, p2 = mark_inset(raw_ax, raw_inset, loc1=3, loc2=4, fc=\"none\", ec=\"0.5\")\n",
    "\n",
    "zero_inset = zoomed_inset_axes(raw_ax, 41, loc=3, bbox_to_anchor=raw_ax.transData.transform((161.55, 0.05)))\n",
    "zero_inset.plot(volt_trace.time*1000, volt_trace.signal[:, 1], color=raw_color)\n",
    "zero_inset.plot(volt_trace.time*1000, volt_trace.filtered_voltage, linewidth=3.0, color=filt_color)\n",
    "zero_inset.plot(volt_trace.time*1000, volt_trace.smoothed_voltage, color=sm_color)\n",
    "zero_inset.axhline(y=0, color=\"grey\")\n",
    "zero_inset.ticklabel_format(style='sci', axis='y', scilimits=(-2, 3), useOffset=False)\n",
    "zero_inset.set_xlim([161.95, 162.5])\n",
    "zero_inset.set_ylim([-3.0E-3, 1.0E-3])\n",
    "zero_inset.set_xticks([162, 162.2])\n",
    "zero_inset.set_xticklabels(['162', '162.2'])\n",
    "zero_inset.set_yticks([-3.0E-3, -2.0E-3, -1.0E-3, 0.0, 1.0E-3])\n",
    "zero_inset.annotate('(b)', (162.4, 0), backgroundcolor='white')\n",
    "\n",
    "pp2, p3, p4 = mark_inset(raw_ax, zero_inset, loc1=3, loc2=4, fc=\"none\", ec=\"0.5\")\n",
    "\n",
    "fig_name = 'raw-voltage'\n",
    "\n",
    "raw_fig.savefig(fig_name + '.pdf', bbox_inches='tight')\n",
    "run(['convert', '-density', dpi, fig_name + '.pdf', fig_name + '.png'])\n",
    "\n",
    "# This gets drawn in front of the inset axes, when it should be behind for the proper effect :(\n",
    "# p3 = BboxConnector(raw_inset.bbox, pp.bbox, loc1=2, loc2=2, fc=\"none\", ec=\"0.5\")\n",
    "# raw_inset.add_patch(p3)\n",
    "# p3.set_clip_on(False)"
   ]
  },
  {
   "cell_type": "markdown",
   "metadata": {},
   "source": [
    "# Plot the 2-stage ignition case"
   ]
  },
  {
   "cell_type": "code",
   "execution_count": null,
   "metadata": {
    "collapsed": false
   },
   "outputs": [],
   "source": [
    "expt = ucr.dataprocessing.Experiment(Path('00_in_02_mm_373K-1282t-100x-19-Jul-15-1633.txt'))\n",
    "nr_expt = ucr.dataprocessing.Experiment(Path('NR_00_in_02_mm_373K-1278t-100x-19-Jul-15-1652.txt'))"
   ]
  },
  {
   "cell_type": "code",
   "execution_count": null,
   "metadata": {
    "collapsed": false
   },
   "outputs": [],
   "source": [
    "ign_fig, pressure_ax = plt.subplots(figsize=[14, 9])\n",
    "pressure_ax.plot(expt.pressure_trace.zeroed_time*1000,\n",
    "                 expt.pressure_trace.pressure,\n",
    "                 linewidth=1.5, label=\"Pressure\")\n",
    "pressure_ax.plot(nr_expt.pressure_trace.zeroed_time*1000,\n",
    "                 nr_expt.pressure_trace.pressure,\n",
    "                 linewidth=1.5, label=\"Non-Reactive Pressure\")\n",
    "dpdt_ax = pressure_ax.twinx()\n",
    "dpdt_ax.plot(expt.pressure_trace.zeroed_time*1000,\n",
    "             expt.pressure_trace.smoothed_derivative/1000,\n",
    "             'r', linewidth=1.5, label=\"Time Derivative of Pressure\")\n",
    "\n",
    "dpdt_ax.set_ylim(-0.25, 3)\n",
    "dpdt_ax.set_ylabel('Time Derivative of Pressure [bar/ms]')\n",
    "\n",
    "pressure_ax.axvline(x=0, color='k', ymax=0.52, linewidth=1.5)\n",
    "pressure_ax.axvline(x=expt.ignition_delay, color='k', linewidth=1.5)\n",
    "pressure_ax.axvline(x=expt.first_stage, color='k', ymax=0.25, linewidth=1.5)\n",
    "pressure_ax.annotate('', xy=(0, 10), xycoords='data', xytext=(expt.first_stage, 10), textcoords='data',\n",
    "                     arrowprops={'arrowstyle': '<|-|>', 'shrinkA': 0, 'shrinkB': 0, 'fc': 'black', 'linewidth': 1.5})\n",
    "pressure_ax.annotate('$τ_1$', xy=(expt.first_stage/2, 10), xycoords='data', xytext=(0, 10), textcoords='offset points')\n",
    "pressure_ax.annotate('$τ$', xy=(expt.ignition_delay/2, 20), xycoords='data', xytext=(0, 10), textcoords='offset points')\n",
    "pressure_ax.annotate('', xy=(0, 20), xycoords='data', xytext=(expt.ignition_delay, 20), textcoords='data',\n",
    "                     arrowprops={'arrowstyle': '<|-|>', 'shrinkA': 0, 'shrinkB': 0, 'fc': 'black', 'linewidth': 1.5})\n",
    "pressure_ax.annotate('EOC', xy=(0, 31.5), xycoords='data')\n",
    "pressure_ax.annotate('', xy=(-4, 15), xycoords='data', xytext=(-17, 15), textcoords='data',\n",
    "                     arrowprops={'arrowstyle': '<|-', 'shrinkA': 0, 'shrinkB': 0, 'fc': 'black', 'linewidth': 1.5})\n",
    "dpdt_ax.annotate('', xy=(-1, 1.75), xycoords='data', xytext=(12, 1.75), textcoords='data',\n",
    "                 arrowprops={'arrowstyle': '<|-', 'shrinkA': 0, 'shrinkB': 0, 'fc': 'black', 'linewidth': 1.5})\n",
    "pressure_ax.set_ylim(0, 60)\n",
    "pressure_ax.set_xlim(-30, 70)\n",
    "pressure_ax.set_xlabel('Time [ms]')\n",
    "pressure_ax.set_ylabel('Pressure [bar]')\n",
    "\n",
    "lin_1, leg_1 = pressure_ax.get_legend_handles_labels()\n",
    "lin_2, leg_2 = dpdt_ax.get_legend_handles_labels()\n",
    "dpdt_ax_legend = dpdt_ax.legend(lin_1 + lin_2, leg_1 + leg_2, bbox_to_anchor=(0.85, 0.95))\n",
    "\n",
    "for leg in dpdt_ax_legend.legendHandles:\n",
    "    leg.set_linewidth(2.0)\n",
    "\n",
    "fig_name = 'ign-delay-def'\n",
    "\n",
    "ign_fig.savefig(fig_name + '.pdf', bbox_inches='tight')\n",
    "run(['convert', '-density', dpi, fig_name + '.pdf', fig_name + '.png'])\n",
    "# pressure_inset = zoomed_inset_axes(pressure_ax, 4, loc=9)\n",
    "# pressure_inset.plot(expt.pressure_trace.zeroed_time*1000, expt.pressure_trace.pressure)\n",
    "# pressure_inset.set_xlim(30, 40)\n",
    "# pressure_inset.set_ylim(27, 30)\n",
    "\n",
    "# dpdt_inset = pressure_inset.twinx()\n",
    "# dpdt_inset.plot(expt.pressure_trace.zeroed_time*1000, expt.pressure_trace.smoothed_derivative/1000, 'g')\n",
    "# # dpdt_inset.set_ylim(0, 5)\n"
   ]
  },
  {
   "cell_type": "markdown",
   "metadata": {},
   "source": [
    "# Draw the frequency spectrum"
   ]
  },
  {
   "cell_type": "code",
   "execution_count": null,
   "metadata": {
    "collapsed": false
   },
   "outputs": [],
   "source": [
    "volt_trace = ucr.traces.VoltageTrace(Path('10_in_00_mm_333K-979t-100x-13-Jul-15-1349.txt'))\n",
    "samp_freq = np.ceil(1/volt_trace.time[1])\n",
    "\n",
    "freq_fig, freq_ax = plt.subplots(figsize=[14, 9])    \n",
    "f, orig_den = signal.welch(volt_trace.signal[:, 1], fs=samp_freq, nperseg=2**14)\n",
    "freq_ax.plot(f, orig_den, label='Original')\n",
    "f, filt_den = signal.welch(volt_trace.filtered_voltage, fs=samp_freq, nperseg=2**14)\n",
    "freq_ax.plot(f, filt_den, label='Filtered')\n",
    "f, sm_den = signal.welch(volt_trace.smoothed_voltage, fs=samp_freq, nperseg=2**14)\n",
    "freq_ax.plot(f, sm_den, label='Filtered & Smoothed')\n",
    "\n",
    "freq_ax.set_ylim(1.0E-19, 1.0E-4)\n",
    "freq_ax.set_ylabel('Power Spectral Density [W/Hz]')\n",
    "freq_ax.set_xlabel('Frequency [Hz]')\n",
    "freq_ax.set_yscale('log')\n",
    "freq_ax_legend = freq_ax.legend(loc='best')\n",
    "\n",
    "for leg in freq_ax_legend.legendHandles:\n",
    "    leg.set_linewidth(2.0)\n",
    "\n",
    "fig_name = 'frequency'\n",
    "\n",
    "freq_fig.savefig(fig_name + '.pdf', bbox_inches='tight')\n",
    "run(['convert', '-density', dpi, fig_name + '.pdf', fig_name + '.png'])"
   ]
  },
  {
   "cell_type": "markdown",
   "metadata": {},
   "source": [
    "# Run the Example"
   ]
  },
  {
   "cell_type": "code",
   "execution_count": null,
   "metadata": {
    "collapsed": false
   },
   "outputs": [],
   "source": [
    "# %matplotlib inline\n",
    "x_lo = -0.04*1000.0\n",
    "x_hi = 0.075*1000.0\n",
    "cond_00_in_02_mm = ucr.Condition()\n",
    "cond_00_in_02_mm.add_experiment(Path('00_in_02_mm_373K-1285t-100x-19-Jul-15-1620.txt'))\n",
    "cond_00_in_02_mm.add_experiment(Path('00_in_02_mm_373K-1282t-100x-19-Jul-15-1626.txt'))\n",
    "cond_00_in_02_mm.add_experiment(Path('00_in_02_mm_373K-1282t-100x-19-Jul-15-1633.txt'))\n",
    "cond_00_in_02_mm.add_experiment(Path('00_in_02_mm_373K-1282t-100x-19-Jul-15-1640.txt'))\n",
    "cond_00_in_02_mm.add_experiment(Path('00_in_02_mm_373K-1282t-100x-19-Jul-15-1646.txt'))\n",
    "cond_00_in_02_mm.add_experiment(Path('NR_00_in_02_mm_373K-1278t-100x-19-Jul-15-1652.txt'))\n",
    "cond_00_in_02_mm.create_volume_trace()\n",
    "# cond_00_in_02_mm.compare_to_sim(run_reactive=True, run_nonreactive=True)"
   ]
  },
  {
   "cell_type": "code",
   "execution_count": null,
   "metadata": {
    "collapsed": false
   },
   "outputs": [],
   "source": [
    "fig_name = 'all-runs'\n",
    "cond_00_in_02_mm.all_runs_figure.set_size_inches(14, 9)\n",
    "cond_00_in_02_mm.all_runs_axis.set_xlim(x_lo, x_hi)\n",
    "cond_00_in_02_mm.all_runs_figure.savefig(fig_name + '.pdf', bbox_inches='tight')\n",
    "run(['convert', '-density', dpi, fig_name + '.pdf', fig_name + '.png'])"
   ]
  },
  {
   "cell_type": "code",
   "execution_count": null,
   "metadata": {
    "collapsed": false
   },
   "outputs": [],
   "source": [
    "fig_name = 'one-run'\n",
    "exp_fig = cond_00_in_02_mm.reactive_experiments['00_in_02_mm_373K-1282t-100x-19-Jul-15-1633.txt'].exp_fig\n",
    "exp_fig.set_size_inches(14, 9)\n",
    "cond_00_in_02_mm.reactive_experiments['00_in_02_mm_373K-1282t-100x-19-Jul-15-1633.txt'].p_axis.set_xlim(x_lo, x_hi)\n",
    "exp_fig.savefig(fig_name + '.pdf', bbox_inches='tight')\n",
    "run(['convert', '-density', dpi, fig_name + '.pdf', fig_name + '.png'])"
   ]
  },
  {
   "cell_type": "code",
   "execution_count": null,
   "metadata": {
    "collapsed": false
   },
   "outputs": [],
   "source": [
    "fig_name = 'nonreactive-run'\n",
    "cond_00_in_02_mm.nonreactive_figure.set_size_inches(14, 9)\n",
    "cond_00_in_02_mm.nonreactive_axis.set_xlim(x_lo, x_hi)\n",
    "cond_00_in_02_mm.nonreactive_figure.savefig(fig_name + '.pdf', bbox_inches='tight')\n",
    "run(['convert', '-density', dpi, fig_name + '.pdf', fig_name + '.png'])"
   ]
  },
  {
   "cell_type": "code",
   "execution_count": null,
   "metadata": {
    "collapsed": false
   },
   "outputs": [],
   "source": [
    "fig_name = 'pressure-comparison'\n",
    "cond_00_in_02_mm.pressure_comparison_figure.set_size_inches(14, 9)\n",
    "cond_00_in_02_mm.pressure_comparison_axis.set_xlim(-36, -23)\n",
    "cond_00_in_02_mm.pressure_comparison_axis.set_ylim(1.68, 1.85)\n",
    "cond_00_in_02_mm.pressure_comparison_figure.savefig(fig_name + '.pdf', bbox_inches='tight')\n",
    "run(['convert', '-density', dpi, fig_name + '.pdf', fig_name + '.png'])"
   ]
  },
  {
   "cell_type": "code",
   "execution_count": null,
   "metadata": {
    "collapsed": false
   },
   "outputs": [],
   "source": [
    "fig_name = 'simulation-comparison'\n",
    "cond_00_in_02_mm.simulation_figure.set_size_inches(14, 9)\n",
    "cond_00_in_02_mm.simulation_axis.set_xlim(x_lo, x_hi)\n",
    "cond_00_in_02_mm.simulation_axis.legend(loc='best')\n",
    "cond_00_in_02_mm.simulation_figure.savefig(fig_name + '.pdf', bbox_inches='tight')\n",
    "run(['convert', '-density', dpi, fig_name + '.pdf', fig_name + '.png'])"
   ]
  },
  {
   "cell_type": "markdown",
   "metadata": {},
   "source": [
    "# Draw a flowchart for program functions"
   ]
  },
  {
   "cell_type": "code",
   "execution_count": null,
   "metadata": {
    "collapsed": false
   },
   "outputs": [],
   "source": [
    "from graphviz import Digraph\n",
    "from subprocess import run\n",
    "\n",
    "dot = Digraph(filename='flowchart.dot', format='png', body=['newrank=true;'], node_attr={'style': 'filled', 'fillcolor': 'white'})\n",
    "\n",
    "s3 = Digraph(node_attr={'shape': 'cds'})\n",
    "s3.node('filename', 'Input Filename')\n",
    "s3.node('yaml', 'volume-trace.yaml')\n",
    "s3.node('tracesin', 'pressure.txt\\nvolume.csv', width=\"1.5\", height=\"0.75\")\n",
    "s3.node('input', 'Input')\n",
    "\n",
    "dot.subgraph(s3)\n",
    "\n",
    "s2 = Digraph(node_attr={'shape': 'rectangle'})\n",
    "s2.node('condition', 'Condition')\n",
    "s2.node('experiment', 'Experiment')\n",
    "s2.node('fromtraces', 'VolumeFromPressure\\nPressureFromVolume\\nTemperatureFromPressure')\n",
    "s2.node('simulation', 'Simulation')\n",
    "s2.node('class', 'Class')\n",
    "\n",
    "dot.subgraph(s2)\n",
    "\n",
    "q1 = Digraph(node_attr={'shape': 'ellipse'})\n",
    "q1.node('add_experiment()')\n",
    "q1.node('compare_to_sim()')\n",
    "q1.node('create_volume_trace()')\n",
    "q1.node('function', 'Function')\n",
    "\n",
    "dot.subgraph(q1)\n",
    "\n",
    "s5 = Digraph(node_attr={'shape': 'parallelogram'})\n",
    "s5.node('tau', '<Experimental &tau;<br />P<sub>c</sub>>', fixedsize='true', width='1.75')\n",
    "s5.node('tracesout', 'pressure.txt\\nvolume.csv', fixedsize='true', height='0.75', width='1.5')\n",
    "s5.node('simout', '<Simulated &tau;<br />T<sub>c</sub>>', fixedsize='true', width='1.5', height='0.75')\n",
    "s5.node('output', 'Output', shape='parallelogram')\n",
    "\n",
    "dot.subgraph(s5)\n",
    "\n",
    "s1 = Digraph(name='cluster0', graph_attr={'style': 'filled', 'fillcolor': 'lightgrey', 'label': 'Input'}, edge_attr={'style': 'invis'})\n",
    "s1.edges([\n",
    "        ('filename', 'yaml'),\n",
    "        ('yaml', 'tracesin'),\n",
    "    ])\n",
    "dot.subgraph(s1)\n",
    "\n",
    "f2 = Digraph(name='cluster3', graph_attr={'style': 'filled', 'fillcolor': 'white', 'label': 'Internal\\nClasses'}, edge_attr={'style': 'invis'})\n",
    "f2.edges([\n",
    "        ('experiment', 'fromtraces'),\n",
    "        ('fromtraces', 'simulation'),\n",
    "    ])\n",
    "\n",
    "dot.subgraph(f2)\n",
    "\n",
    "f1 = Digraph(name='cluster2', graph_attr={'style': 'filled', 'fillcolor': 'violet', 'label': 'Outputs'}, edge_attr={'style': 'invis'})\n",
    "f1.edges([\n",
    "        ('tau', 'tracesout'),\n",
    "        ('tracesout', 'simout')\n",
    "    ])\n",
    "\n",
    "dot.subgraph(f1)\n",
    "\n",
    "s4 = Digraph(name='cluster1', graph_attr={'style': 'filled', 'fillcolor': 'orange', 'label': 'User Interface'})\n",
    "s4.edges([\n",
    "        ('condition', 'add_experiment()'),\n",
    "        ('add_experiment()', 'create_volume_trace()'),\n",
    "        ('create_volume_trace()', 'compare_to_sim()'),\n",
    "    ])\n",
    "\n",
    "dot.subgraph(s4)\n",
    "\n",
    "e1 = Digraph(graph_attr={'rank': 'same'})\n",
    "e1.edges([\n",
    "        ('filename', 'add_experiment()'),\n",
    "        ('add_experiment()', 'experiment'),\n",
    "        ('experiment', 'tau'),\n",
    "    ])\n",
    "\n",
    "dot.subgraph(e1)\n",
    "\n",
    "e2 = Digraph(graph_attr={'rank': 'same'})\n",
    "e2.edges([\n",
    "        ('yaml', 'create_volume_trace()'),\n",
    "        ('create_volume_trace()', 'fromtraces'),\n",
    "        ('fromtraces', 'tracesout'),\n",
    "    ])\n",
    "\n",
    "dot.subgraph(e2)\n",
    "\n",
    "e3 = Digraph(graph_attr={'rank': 'same'})\n",
    "e3.edges([\n",
    "        ('tracesin', 'compare_to_sim()'),\n",
    "        ('compare_to_sim()', 'simulation'),\n",
    "        ('simulation', 'simout'),\n",
    "    ])\n",
    "\n",
    "dot.subgraph(e3)\n",
    "\n",
    "g1 = Digraph(graph_attr={'rank': 'same', 'nodesep': '0.1'}, edge_attr={'style': 'invis'})\n",
    "g1.edges([\n",
    "        ('legend', 'class'),\n",
    "        ('class', 'function'),\n",
    "        ('function', 'input'),\n",
    "        ('input', 'output'),\n",
    "    ])\n",
    "g1.node('legend', 'Legend:', shape='plaintext')\n",
    "\n",
    "dot.subgraph(g1)\n",
    "\n",
    "dot.edge('tracesin', 'legend', style='invis')\n",
    "\n",
    "dot.save()\n",
    "run(['dot', '-oflowchart.png', '-Tpng', 'flowchart.dot'])"
   ]
  }
 ],
 "metadata": {
  "kernelspec": {
   "display_name": "Python 3",
   "language": "python",
   "name": "python3"
  },
  "language_info": {
   "codemirror_mode": {
    "name": "ipython",
    "version": 3
   },
   "file_extension": ".py",
   "mimetype": "text/x-python",
   "name": "python",
   "nbconvert_exporter": "python",
   "pygments_lexer": "ipython3",
   "version": "3.5.2"
  }
 },
 "nbformat": 4,
 "nbformat_minor": 0
}
