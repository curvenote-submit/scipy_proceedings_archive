{
 "cells": [
  {
   "cell_type": "code",
   "execution_count": null,
   "metadata": {
    "collapsed": false
   },
   "outputs": [],
   "source": [
    "import holoviews as hv\n",
    "import numpy as np\n",
    "%load_ext holoviews.ipython\n",
    "%output fig='svg' dpi=200 size=125"
   ]
  },
  {
   "cell_type": "markdown",
   "metadata": {},
   "source": [
    "## Figure 1 - Elements and Containers"
   ]
  },
  {
   "cell_type": "code",
   "execution_count": null,
   "metadata": {
    "collapsed": false
   },
   "outputs": [],
   "source": [
    "imdata = np.load('mandelbrot.npy')\n",
    "image = hv.Image(imdata, kdims=['Re', 'Im'], label='Mandelbrot Set', bounds=(-0.25, 1.12, 0.03, 0.84))\n",
    "image * hv.HLine(y=1) + image.sample(Im=1).relabel('Cross section')"
   ]
  },
  {
   "cell_type": "markdown",
   "metadata": {},
   "source": [
    "## Figure 2 - Spaces"
   ]
  },
  {
   "cell_type": "code",
   "execution_count": null,
   "metadata": {
    "collapsed": false
   },
   "outputs": [],
   "source": [
    "xs = np.arange(100)\n",
    "holomap = hv.HoloMap(kdims=['Frequency', 'Amplitude', 'Function'])\n",
    "for freq in [0.01, 0.05, 0.1]:\n",
    "    for amp in range(1,4):\n",
    "        for name, fn in [('sin', np.sin), ('cos', np.cos)]:\n",
    "            cdata = fn(xs*freq*np.pi)*amp\n",
    "            holomap[freq, amp, name] = hv.Curve(cdata, kdims=['Phase'], vdims=['Amplitude'])\n",
    "holomap + holomap.grid(['Amplitude', 'Frequency'])"
   ]
  },
  {
   "cell_type": "markdown",
   "metadata": {},
   "source": [
    "# Figure 4 - Customizing the representation"
   ]
  },
  {
   "cell_type": "code",
   "execution_count": null,
   "metadata": {
    "collapsed": false
   },
   "outputs": [],
   "source": [
    "%output fig='svg'"
   ]
  },
  {
   "cell_type": "code",
   "execution_count": null,
   "metadata": {
    "collapsed": false
   },
   "outputs": [],
   "source": [
    "%%opts Layout [aspect_weight=1 sublabel_format='{roman}.'] Image (cmap='Blues') Curve [aspect=1.25] (linewidth=3)\n",
    "im = hv.Image(imdata, kdims=['Re', 'Im'], label='Mandelbrot Set', bounds=(-0.25, 1.12, 0.03, 0.84))\n",
    "content = im * hv.HLine(y=1) + im.sample(Im=1).relabel('Cross section')\n",
    "content"
   ]
  },
  {
   "cell_type": "code",
   "execution_count": null,
   "metadata": {
    "collapsed": false
   },
   "outputs": [],
   "source": [
    "print(repr(content))"
   ]
  },
  {
   "cell_type": "code",
   "execution_count": null,
   "metadata": {
    "collapsed": false
   },
   "outputs": [],
   "source": [
    "options = hv.Store.custom_options()[content.id]\n",
    "print repr(options)"
   ]
  }
 ],
 "metadata": {
  "kernelspec": {
   "display_name": "Python 2",
   "language": "python",
   "name": "python2"
  },
  "language_info": {
   "codemirror_mode": {
    "name": "ipython",
    "version": 2
   },
   "file_extension": ".py",
   "mimetype": "text/x-python",
   "name": "python",
   "nbconvert_exporter": "python",
   "pygments_lexer": "ipython2",
   "version": "2.7.10"
  }
 },
 "nbformat": 4,
 "nbformat_minor": 0
}
