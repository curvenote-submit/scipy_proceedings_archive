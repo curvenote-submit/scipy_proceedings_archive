{
 "cells": [
  {
   "cell_type": "code",
   "execution_count": 1,
   "metadata": {
    "collapsed": true
   },
   "outputs": [],
   "source": [
    "import matplotlib.pyplot as plt\n",
    "%matplotlib inline"
   ]
  },
  {
   "cell_type": "markdown",
   "metadata": {},
   "source": [
    "# An Econophysics model of wealth distribution\n",
    "\n",
    "The model consists of:\n",
    "\n",
    "1. Some number of agents, who\n",
    "\n",
    "2. can have 0 or more units of Money, and \n",
    "\n",
    "3. if they have more than 0 units of money, (may) give 1 unit away at random."
   ]
  },
  {
   "cell_type": "markdown",
   "metadata": {},
   "source": [
    "## Simplest Version"
   ]
  },
  {
   "cell_type": "code",
   "execution_count": 2,
   "metadata": {
    "collapsed": true
   },
   "outputs": [],
   "source": [
    "import random\n",
    "from mesa import Model, Agent\n",
    "from mesa.time import RandomActivation"
   ]
  },
  {
   "cell_type": "code",
   "execution_count": 3,
   "metadata": {
    "collapsed": false
   },
   "outputs": [],
   "source": [
    "class MoneyAgent(Agent):\n",
    "    \"\"\" An agent with fixed initial wealth.\"\"\"\n",
    "    def __init__(self, unique_id):\n",
    "        # Each agent should have a unique_id\n",
    "        self.unique_id = unique_id\n",
    "        self.wealth = 1\n",
    "    \n",
    "    def step(self, model):\n",
    "        \"\"\"Give money to another agent.\"\"\"\n",
    "        if self.wealth > 0:\n",
    "            # Pick a random agent\n",
    "            other = random.choice(model.schedule.agents)\n",
    "            # Give them 1 unit money\n",
    "            other.wealth += 1\n",
    "            self.wealth -= 1\n",
    "\n",
    "class MoneyModel(Model):\n",
    "    \"\"\"A model with some number of agents.\"\"\"\n",
    "    \n",
    "    def __init__(self, N):\n",
    "        self.num_agents = N\n",
    "        self.schedule = RandomActivation(self)\n",
    "        self.create_agents()\n",
    "\n",
    "    def create_agents(self):\n",
    "        \"\"\"Method to create all the agents.\"\"\"\n",
    "        for i in range(self.num_agents):\n",
    "            a = MoneyAgent(i)\n",
    "            self.schedule.add(a)\n",
    "            \n",
    "    def step(self):\n",
    "        self.schedule.step()\n",
    "\n",
    "    def run_model(self, steps):\n",
    "        \"\"\"The model has no end condition\n",
    "        so the user needs to specify how long to run\"\"\"\n",
    "        for _ in range(steps):\n",
    "            self.step()"
   ]
  },
  {
   "cell_type": "code",
   "execution_count": 4,
   "metadata": {
    "collapsed": true
   },
   "outputs": [],
   "source": [
    "model = MoneyModel(100)"
   ]
  },
  {
   "cell_type": "code",
   "execution_count": 5,
   "metadata": {
    "collapsed": false
   },
   "outputs": [],
   "source": [
    "model.run_model(1000)"
   ]
  },
  {
   "cell_type": "code",
   "execution_count": 6,
   "metadata": {
    "collapsed": false
   },
   "outputs": [
    {
     "data": {
      "text/plain": [
       "<matplotlib.text.Text at 0x108803cc0>"
      ]
     },
     "execution_count": 6,
     "metadata": {},
     "output_type": "execute_result"
    },
    {
     "data": {
      "image/png": "[encoded data removed]",
      "text/plain": [
       "<matplotlib.figure.Figure at 0x1063e35c0>"
      ]
     },
     "metadata": {},
     "output_type": "display_data"
    }
   ],
   "source": [
    "wealths = [a.wealth for a in model.schedule.agents]\n",
    "plt.hist(wealths, bins=range(max(wealths)))\n",
    "plt.xlabel(\"Wealth\")\n",
    "plt.ylabel(\"# of Agents\")\n",
    "plt.title(\"Agent wealth distribution\\nafter 1,000 ticks\")"
   ]
  },
  {
   "cell_type": "markdown",
   "metadata": {},
   "source": [
    "## Adding in a grid"
   ]
  },
  {
   "cell_type": "code",
   "execution_count": 7,
   "metadata": {
    "collapsed": true
   },
   "outputs": [],
   "source": [
    "from mesa.space import MultiGrid"
   ]
  },
  {
   "cell_type": "code",
   "execution_count": 8,
   "metadata": {
    "collapsed": true
   },
   "outputs": [],
   "source": [
    "class MoneyAgent(Agent):\n",
    "    \"\"\" An agent with fixed initial wealth.\"\"\"\n",
    "    def __init__(self, unique_id):\n",
    "        # Each agent should have a unique_id\n",
    "        self.unique_id = unique_id\n",
    "        self.wealth = 1\n",
    "        self.pos = None\n",
    "\n",
    "    def move(self, model):\n",
    "        \"\"\"Take a random step.\"\"\"\n",
    "        grid = model.grid\n",
    "        x, y = self.pos\n",
    "        possible_steps = grid.get_neighborhood(x, y, \n",
    "            moore=True, include_center=True)\n",
    "        choice = random.choice(possible_steps)\n",
    "        if choice != self.pos:\n",
    "            grid.move_agent(self, choice)\n",
    "\n",
    "    def give_money(self, model):\n",
    "        grid = model.grid\n",
    "        x, y = self.pos\n",
    "        this_pos = [self.pos]\n",
    "        others = grid.get_cell_list_contents(this_pos)\n",
    "        #others = list(grid[y][x])\n",
    "        if len(others) > 1:\n",
    "            other = random.choice(list(others))\n",
    "            other.wealth += 1\n",
    "            self.wealth -= 1\n",
    "\n",
    "    def step(self, model):\n",
    "        self.move(model)\n",
    "        if self.wealth > 0:\n",
    "            self.give_money(model)\n",
    "\n",
    "class MoneyModel(Model):\n",
    "    \"\"\"A model with some number of agents.\"\"\"\n",
    "    \n",
    "    def __init__(self, N, width, height, torus):\n",
    "        self.grid = MultiGrid(height, width, torus)\n",
    "        self.num_agents = N\n",
    "        self.schedule = RandomActivation(self)\n",
    "        self.create_agents()\n",
    "\n",
    "    def create_agents(self):\n",
    "        \"\"\"Method to create all the agents.\"\"\"\n",
    "        for i in range(self.num_agents):\n",
    "            a = MoneyAgent(i)\n",
    "            self.schedule.add(a)\n",
    "            x = random.randrange(self.grid.width)\n",
    "            y = random.randrange(self.grid.width)\n",
    "            self.grid.place_agent(a, (x, y))\n",
    "            \n",
    "    def step(self):\n",
    "        self.schedule.step()\n",
    "\n",
    "    def run_model(self, steps):\n",
    "        \"\"\"The model has no end condition\n",
    "        so the user needs to specify how long to run\"\"\"\n",
    "        for _ in range(steps):\n",
    "            self.step()"
   ]
  },
  {
   "cell_type": "code",
   "execution_count": 9,
   "metadata": {
    "collapsed": false
   },
   "outputs": [],
   "source": [
    "model = MoneyModel(100, 10, 10, True)"
   ]
  },
  {
   "cell_type": "code",
   "execution_count": 10,
   "metadata": {
    "collapsed": false
   },
   "outputs": [],
   "source": [
    "model.run_model(1000)"
   ]
  },
  {
   "cell_type": "code",
   "execution_count": 11,
   "metadata": {
    "collapsed": false
   },
   "outputs": [
    {
     "data": {
      "text/plain": [
       "<matplotlib.text.Text at 0x10895a588>"
      ]
     },
     "execution_count": 11,
     "metadata": {},
     "output_type": "execute_result"
    },
    {
     "data": {
      "image/png": "[encoded data removed]",
      "text/plain": [
       "<matplotlib.figure.Figure at 0x1088d2048>"
      ]
     },
     "metadata": {},
     "output_type": "display_data"
    }
   ],
   "source": [
    "wealths = [a.wealth for a in model.schedule.agents]\n",
    "plt.hist(wealths, bins=range(max(wealths)))\n",
    "plt.xlabel(\"Wealth\")\n",
    "plt.ylabel(\"# of Agents\")\n",
    "plt.title(\"Agent wealth distribution\\nafter 1,000 ticks\")"
   ]
  },
  {
   "cell_type": "code",
   "execution_count": 12,
   "metadata": {
    "collapsed": true
   },
   "outputs": [],
   "source": [
    "import numpy as np"
   ]
  },
  {
   "cell_type": "code",
   "execution_count": 13,
   "metadata": {
    "collapsed": false
   },
   "outputs": [
    {
     "data": {
      "text/plain": [
       "<matplotlib.colorbar.Colorbar at 0x108ab1eb8>"
      ]
     },
     "execution_count": 13,
     "metadata": {},
     "output_type": "execute_result"
    },
    {
     "data": {
      "image/png": "[encoded data removed]",
      "text/plain": [
       "<matplotlib.figure.Figure at 0x10895aa20>"
      ]
     },
     "metadata": {},
     "output_type": "display_data"
    }
   ],
   "source": [
    "wealth_grid = np.zeros((model.grid.width, model.grid.height))\n",
    "for cell in model.grid.coord_iter():\n",
    "    cell_content, x, y = cell\n",
    "    cell_wealth = sum(a.wealth for a in cell_content)\n",
    "    wealth_grid[y][x] = cell_wealth\n",
    "plt.imshow(wealth_grid, interpolation='nearest',\n",
    "          cmap=plt.get_cmap('Greys'))\n",
    "plt.colorbar()"
   ]
  },
  {
   "cell_type": "markdown",
   "metadata": {},
   "source": [
    "## Grid-less version, with a data collector"
   ]
  },
  {
   "cell_type": "code",
   "execution_count": 14,
   "metadata": {
    "collapsed": true
   },
   "outputs": [],
   "source": [
    "from mesa.datacollection import DataCollector"
   ]
  },
  {
   "cell_type": "code",
   "execution_count": 15,
   "metadata": {
    "collapsed": true
   },
   "outputs": [],
   "source": [
    "class MoneyAgent(Agent):\n",
    "    \"\"\" An agent with fixed initial wealth.\"\"\"\n",
    "    def __init__(self, unique_id):\n",
    "        # Each agent should have a unique_id\n",
    "        self.unique_id = unique_id\n",
    "        self.wealth = 1\n",
    "    \n",
    "    def step(self, model):\n",
    "        \"\"\"Give money to another agent.\"\"\"\n",
    "        if self.wealth > 0:\n",
    "            # Pick a random agent\n",
    "            other = random.choice(model.schedule.agents)\n",
    "            # Give them 1 unit money\n",
    "            other.wealth += 1\n",
    "            self.wealth -= 1\n",
    "\n",
    "class MoneyModel(Model):\n",
    "    \"\"\"A model with some number of agents.\"\"\"\n",
    "    \n",
    "    def __init__(self, N):\n",
    "        self.num_agents = N\n",
    "        self.schedule = RandomActivation(self)\n",
    "        self.create_agents()\n",
    "        ar = {\"Wealth\": lambda a: a.wealth}\n",
    "        self.dc = DataCollector(agent_reporters=ar)\n",
    "\n",
    "    def create_agents(self):\n",
    "        \"\"\"Method to create all the agents.\"\"\"\n",
    "        for i in range(self.num_agents):\n",
    "            a = MoneyAgent(i)\n",
    "            self.schedule.add(a)\n",
    "            \n",
    "    def step(self):\n",
    "        self.dc.collect(self)\n",
    "        self.schedule.step()\n",
    "\n",
    "    def run_model(self, steps):\n",
    "        \"\"\"The model has no end condition\n",
    "        so the user needs to specify how long to run\"\"\"\n",
    "        for _ in range(steps):\n",
    "            self.step()"
   ]
  },
  {
   "cell_type": "code",
   "execution_count": 16,
   "metadata": {
    "collapsed": false
   },
   "outputs": [
    {
     "data": {
      "text/plain": [
       "<matplotlib.text.Text at 0x10edb2e48>"
      ]
     },
     "execution_count": 16,
     "metadata": {},
     "output_type": "execute_result"
    },
    {
     "data": {
      "image/png": "[encoded data removed]",
      "text/plain": [
       "<matplotlib.figure.Figure at 0x1087282e8>"
      ]
     },
     "metadata": {},
     "output_type": "display_data"
    }
   ],
   "source": [
    "model = MoneyModel(100)\n",
    "# Run it for 1,000 steps:\n",
    "model.run_model(1000)\n",
    "# Get the data as a DataFrame\n",
    "wealth_history = model.dc.get_agent_vars_dataframe()\n",
    "# wealth_history indexed on Step and AgentID, and...\n",
    "# ...has Wealth as one data column\n",
    "wealth_history.reset_index(inplace=True)\n",
    "# Plot a histogram of final wealth\n",
    "wealth_history[wealth_history.Step==999].\\\n",
    "Wealth.hist(bins=range(10))\n",
    "\n",
    "plt.xlabel(\"Wealth\")\n",
    "plt.ylabel(\"Agent count\")\n",
    "plt.title(\"Histogram of agent wealth\\nafter 1,000 steps\")"
   ]
  },
  {
   "cell_type": "markdown",
   "metadata": {},
   "source": [
    "## Batch running"
   ]
  },
  {
   "cell_type": "code",
   "execution_count": 17,
   "metadata": {
    "collapsed": true
   },
   "outputs": [],
   "source": [
    "from mesa.batchrunner import BatchRunner"
   ]
  },
  {
   "cell_type": "code",
   "execution_count": 18,
   "metadata": {
    "collapsed": true
   },
   "outputs": [],
   "source": [
    "class MoneyAgent(Agent):\n",
    "    \"\"\" An agent with fixed initial wealth.\"\"\"\n",
    "    def __init__(self, unique_id, starting_wealth):\n",
    "        # Each agent should have a unique_id\n",
    "        self.unique_id = unique_id\n",
    "        self.wealth = starting_wealth\n",
    "    \n",
    "    def step(self, model):\n",
    "        \"\"\"Give money to another agent.\"\"\"\n",
    "        if self.wealth > 0:\n",
    "            # Pick a random agent\n",
    "            other = random.choice(model.schedule.agents)\n",
    "            # Give them 1 unit money\n",
    "            other.wealth += 1\n",
    "            self.wealth -= 1\n",
    "\n",
    "class MoneyModel(Model):\n",
    "    \"\"\"A model with some number of agents.\"\"\"\n",
    "    \n",
    "    def __init__(self, N, starting_wealth):\n",
    "        self.running = True\n",
    "        self.num_agents = N\n",
    "        self.starting_wealth = starting_wealth\n",
    "        self.schedule = RandomActivation(self)\n",
    "        self.create_agents()\n",
    "        ar = {\"Wealth\": lambda a: a.wealth}\n",
    "        self.dc = DataCollector(agent_reporters=ar)\n",
    "\n",
    "    def create_agents(self):\n",
    "        \"\"\"Method to create all the agents.\"\"\"\n",
    "        for i in range(self.num_agents):\n",
    "            a = MoneyAgent(i, self.starting_wealth)\n",
    "            self.schedule.add(a)\n",
    "            \n",
    "    def step(self):\n",
    "        self.dc.collect(self)\n",
    "        self.schedule.step()\n",
    "\n",
    "    def run_model(self, steps):\n",
    "        \"\"\"The model has no end condition\n",
    "        so the user needs to specify how long to run\"\"\"\n",
    "        for _ in range(steps):\n",
    "            self.step()"
   ]
  },
  {
   "cell_type": "code",
   "execution_count": 19,
   "metadata": {
    "collapsed": true
   },
   "outputs": [],
   "source": [
    "def compute_gini(model):\n",
    "    agent_wealths = [agent.wealth for agent in model.schedule.agents]\n",
    "    x = sorted(agent_wealths)\n",
    "    N = model.num_agents\n",
    "    B = sum( xi * (N-i) for i,xi in enumerate(x) ) / (N*sum(x))\n",
    "    return (1 + (1/N) - 2*B)"
   ]
  },
  {
   "cell_type": "code",
   "execution_count": 20,
   "metadata": {
    "collapsed": false
   },
   "outputs": [
    {
     "data": {
      "text/plain": [
       "<matplotlib.text.Text at 0x10aec72b0>"
      ]
     },
     "execution_count": 20,
     "metadata": {},
     "output_type": "execute_result"
    },
    {
     "data": {
      "image/png": "[encoded data removed]",
      "text/plain": [
       "<matplotlib.figure.Figure at 0x10a339e10>"
      ]
     },
     "metadata": {},
     "output_type": "display_data"
    }
   ],
   "source": [
    "param_values = {\"N\": 100, \"starting_wealth\": range(1,10)}\n",
    "model_reporter={\"Gini\": compute_gini}\n",
    "batch = BatchRunner(MoneyModel, param_values,\n",
    "                  10, 1000, model_reporter)\n",
    "batch.run_all()\n",
    "out = batch.get_model_vars_dataframe()\n",
    "plt.scatter(out.starting_wealth, out.Gini)\n",
    "\n",
    "plt.grid(True)\n",
    "plt.xlabel(\"Starting wealth\")\n",
    "plt.ylabel(\"Gini Coefficient\")"
   ]
  },
  {
   "cell_type": "code",
   "execution_count": null,
   "metadata": {
    "collapsed": true
   },
   "outputs": [],
   "source": []
  }
 ],
 "metadata": {
  "kernelspec": {
   "display_name": "Python 3",
   "language": "python",
   "name": "python3"
  },
  "language_info": {
   "codemirror_mode": {
    "name": "ipython",
    "version": 3
   },
   "file_extension": ".py",
   "mimetype": "text/x-python",
   "name": "python",
   "nbconvert_exporter": "python",
   "pygments_lexer": "ipython3",
   "version": "3.4.2"
  }
 },
 "nbformat": 4,
 "nbformat_minor": 0
}
