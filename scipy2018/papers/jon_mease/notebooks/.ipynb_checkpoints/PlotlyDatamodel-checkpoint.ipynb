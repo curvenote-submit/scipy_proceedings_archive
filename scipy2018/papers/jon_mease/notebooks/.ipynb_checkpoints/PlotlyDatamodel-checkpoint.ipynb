{
 "cells": [
  {
   "cell_type": "code",
   "execution_count": 1,
   "metadata": {},
   "outputs": [],
   "source": [
    "import plotly.graph_objs as go"
   ]
  },
  {
   "cell_type": "code",
   "execution_count": 68,
   "metadata": {},
   "outputs": [
    {
     "data": {
      "text/plain": [
       "{'data': [{'type': 'bar', 'y': [2, 3, 1]},\n",
       "  {'marker': {'size': 12}, 'type': 'scatter', 'y': [3, 1, 2]}],\n",
       " 'layout': {'showlegend': False,\n",
       "  'title': 'Lines and Bars',\n",
       "  'xaxis': {'range': [-1, 3], 'tickvals': [0, 1, 2]}}}"
      ]
     },
     "execution_count": 68,
     "metadata": {},
     "output_type": "execute_result"
    }
   ],
   "source": [
    "{\n",
    "    'data': [\n",
    "        {'type': 'bar',\n",
    "         'y': [2, 3, 1]},\n",
    "        {'type': 'scatter',\n",
    "         'y': [3, 1, 2],\n",
    "         'marker': {'size': 12}}\n",
    "    ],\n",
    "    'layout': {\n",
    "        'title': 'Lines and Bars',\n",
    "        'xaxis': {\n",
    "            'range': [-1, 3],\n",
    "            'tickvals': [0, 1, 2]},\n",
    "        'showlegend': False\n",
    "    }\n",
    "}"
   ]
  },
  {
   "cell_type": "code",
   "execution_count": 60,
   "metadata": {},
   "outputs": [
    {
     "data": {
      "application/vnd.jupyter.widget-view+json": {
       "model_id": "d8b7259074964dc9ab7f1de65a82c853",
       "version_major": 2,
       "version_minor": 0
      },
      "text/plain": [
       "FigureWidget(**{\n",
       "    'data': [{'type': 'bar', 'uid': 'fb4730da-5522-11e8-867c-a0999b0c017b', 'y': [2, 3, 1]},\n",
       "…"
      ]
     },
     "metadata": {},
     "output_type": "display_data"
    }
   ],
   "source": [
    "fig = go.FigureWidget(_)\n",
    "fig"
   ]
  },
  {
   "cell_type": "code",
   "execution_count": 66,
   "metadata": {},
   "outputs": [],
   "source": [
    "with fig.batch_update():\n",
    "    fig.layout.height = 250\n",
    "    fig.layout.width = 400\n",
    "    fig.layout.margin.l = 20\n",
    "    fig.layout.margin.t = 50\n",
    "    fig.layout.margin.b = 20\n",
    "    fig.layout.margin.r = 20"
   ]
  },
  {
   "cell_type": "code",
   "execution_count": 67,
   "metadata": {},
   "outputs": [],
   "source": [
    "# TODO: replace with call to plotly orca\n",
    "fig.save_image('../figures/lines_and_bars.pdf')"
   ]
  }
 ],
 "metadata": {
  "kernelspec": {
   "display_name": "Python 3",
   "language": "python",
   "name": "python3"
  },
  "language_info": {
   "codemirror_mode": {
    "name": "ipython",
    "version": 3
   },
   "file_extension": ".py",
   "mimetype": "text/x-python",
   "name": "python",
   "nbconvert_exporter": "python",
   "pygments_lexer": "ipython3",
   "version": "3.6.4"
  }
 },
 "nbformat": 4,
 "nbformat_minor": 2
}
