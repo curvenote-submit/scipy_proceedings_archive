{
 "cells": [
  {
   "cell_type": "code",
   "execution_count": 244,
   "metadata": {},
   "outputs": [],
   "source": [
    "import plotly.graph_objs as go\n",
    "from IPython.display import display"
   ]
  },
  {
   "cell_type": "code",
   "execution_count": 245,
   "metadata": {},
   "outputs": [],
   "source": [
    "def format_for_print(orig_fig, save_path=None):\n",
    "    fig = go.FigureWidget(orig_fig)\n",
    "    with fig.batch_update():\n",
    "        fig.layout.height = 250\n",
    "        fig.layout.width = 400\n",
    "        fig.layout.margin.l = 20\n",
    "        fig.layout.margin.t = 50\n",
    "        fig.layout.margin.b = 20\n",
    "        fig.layout.margin.r = 20\n",
    "\n",
    "    display(fig)\n",
    "    if save_path:\n",
    "        fig.save_image(save_path)"
   ]
  },
  {
   "cell_type": "code",
   "execution_count": 246,
   "metadata": {
    "code_folding": []
   },
   "outputs": [
    {
     "data": {
      "application/vnd.jupyter.widget-view+json": {
       "model_id": "de5631c780444496809dcdc609dea4a2",
       "version_major": 2,
       "version_minor": 0
      },
      "text/plain": [
       "FigureWidget(**{\n",
       "    'data': [{'type': 'bar', 'uid': 'ebe0bb66-55ef-11e8-8a46-a0999b0c017b', 'y': [2, 3, 1]}],…"
      ]
     },
     "metadata": {},
     "output_type": "display_data"
    }
   ],
   "source": [
    "fig = go.FigureWidget(\n",
    "    data=[go.Bar(y=[2, 3, 1])])\n",
    "fig"
   ]
  },
  {
   "cell_type": "code",
   "execution_count": 247,
   "metadata": {},
   "outputs": [
    {
     "name": "stdout",
     "output_type": "stream",
     "text": [
      "FigureWidget(**{\n",
      "    'data': [{'type': 'bar', 'uid': 'ebe0bb66-55ef-11e8-8a46-a0999b0c017b', 'y': [2, 3, 1]}], 'layout': {}\n",
      "})\n"
     ]
    }
   ],
   "source": [
    "print(fig)"
   ]
  },
  {
   "cell_type": "code",
   "execution_count": 248,
   "metadata": {},
   "outputs": [
    {
     "data": {
      "text/plain": [
       "{'data': [{'type': 'bar',\n",
       "   'uid': 'ebe0bb66-55ef-11e8-8a46-a0999b0c017b',\n",
       "   'y': [2, 3, 1]}],\n",
       " 'layout': {}}"
      ]
     },
     "execution_count": 248,
     "metadata": {},
     "output_type": "execute_result"
    }
   ],
   "source": [
    "fig.to_plotly_json()"
   ]
  },
  {
   "cell_type": "code",
   "execution_count": 249,
   "metadata": {},
   "outputs": [
    {
     "data": {
      "application/vnd.jupyter.widget-view+json": {
       "model_id": "3ab6c3705b504587863dafd83d60bec5",
       "version_major": 2,
       "version_minor": 0
      },
      "text/plain": [
       "FigureWidget(**{\n",
       "    'data': [{'type': 'bar', 'uid': 'ec47aaf6-55ef-11e8-9977-a0999b0c017b', 'y': [2, 3, 1]}],…"
      ]
     },
     "metadata": {},
     "output_type": "display_data"
    }
   ],
   "source": [
    "format_for_print(fig, '../figures/fig_A.pdf')"
   ]
  },
  {
   "cell_type": "code",
   "execution_count": 250,
   "metadata": {
    "code_folding": []
   },
   "outputs": [
    {
     "data": {
      "text/plain": [
       "{'data': [{'type': 'bar',\n",
       "   'uid': 'ebe0bb66-55ef-11e8-8a46-a0999b0c017b',\n",
       "   'y': [2, 3, 1]}],\n",
       " 'layout': {'xaxis': {'range': [-1, 3]}}}"
      ]
     },
     "execution_count": 250,
     "metadata": {},
     "output_type": "execute_result"
    }
   ],
   "source": [
    "fig.layout.xaxis.range =  [-1, 3]  # [B]\n",
    "fig.to_plotly_json()"
   ]
  },
  {
   "cell_type": "code",
   "execution_count": 251,
   "metadata": {},
   "outputs": [
    {
     "data": {
      "application/vnd.jupyter.widget-view+json": {
       "model_id": "d4e8ae4d73f1473f926caf08609adfe1",
       "version_major": 2,
       "version_minor": 0
      },
      "text/plain": [
       "FigureWidget(**{\n",
       "    'data': [{'type': 'bar', 'uid': 'ec787802-55ef-11e8-9486-a0999b0c017b', 'y': [2, 3, 1]}],…"
      ]
     },
     "metadata": {},
     "output_type": "display_data"
    }
   ],
   "source": [
    "format_for_print(fig, '../figures/fig_B.pdf')"
   ]
  },
  {
   "cell_type": "code",
   "execution_count": 252,
   "metadata": {
    "code_folding": []
   },
   "outputs": [
    {
     "data": {
      "text/plain": [
       "{'data': [{'type': 'bar',\n",
       "   'uid': 'ebe0bb66-55ef-11e8-8a46-a0999b0c017b',\n",
       "   'y': [2, 3, 1]},\n",
       "  {'type': 'scatter',\n",
       "   'uid': 'ec8dde2c-55ef-11e8-b400-a0999b0c017b',\n",
       "   'y': [3, 1, 2]}],\n",
       " 'layout': {'xaxis': {'range': [-1, 3]}}}"
      ]
     },
     "execution_count": 252,
     "metadata": {},
     "output_type": "execute_result"
    }
   ],
   "source": [
    "fig.add_scatter(y=[3, 1, 2])  # [C]\n",
    "fig.to_plotly_json()"
   ]
  },
  {
   "cell_type": "code",
   "execution_count": 253,
   "metadata": {},
   "outputs": [
    {
     "data": {
      "application/vnd.jupyter.widget-view+json": {
       "model_id": "38ea33f5fab0423db8ca712ce566f821",
       "version_major": 2,
       "version_minor": 0
      },
      "text/plain": [
       "FigureWidget(**{\n",
       "    'data': [{'type': 'bar', 'uid': 'ecc6d81c-55ef-11e8-99ef-a0999b0c017b', 'y': [2, 3, 1]},\n",
       "…"
      ]
     },
     "metadata": {},
     "output_type": "display_data"
    }
   ],
   "source": [
    "format_for_print(fig, '../figures/fig_C.pdf')"
   ]
  },
  {
   "cell_type": "code",
   "execution_count": 254,
   "metadata": {},
   "outputs": [
    {
     "data": {
      "text/plain": [
       "{'data': [{'name': 'A',\n",
       "   'type': 'bar',\n",
       "   'uid': 'ebe0bb66-55ef-11e8-8a46-a0999b0c017b',\n",
       "   'y': [2, 3, 1]},\n",
       "  {'marker': {'size': 12},\n",
       "   'name': 'B',\n",
       "   'type': 'scatter',\n",
       "   'uid': 'ec8dde2c-55ef-11e8-b400-a0999b0c017b',\n",
       "   'y': [3, 1, 2]}],\n",
       " 'layout': {'xaxis': {'range': [-1, 3], 'tickvals': [0, 1, 2]}}}"
      ]
     },
     "execution_count": 254,
     "metadata": {},
     "output_type": "execute_result"
    }
   ],
   "source": [
    "with fig.batch_update():\n",
    "    fig.data[0].name='A'\n",
    "    fig.data[1].name='B'\n",
    "    fig.data[1].marker.size=12\n",
    "    fig.layout.xaxis.tickvals=[0, 1, 2]\n",
    "fig.to_plotly_json()"
   ]
  },
  {
   "cell_type": "code",
   "execution_count": 255,
   "metadata": {},
   "outputs": [
    {
     "data": {
      "application/vnd.jupyter.widget-view+json": {
       "model_id": "1b0aa9b87c234750b4cda5ab7ad63204",
       "version_major": 2,
       "version_minor": 0
      },
      "text/plain": [
       "FigureWidget(**{\n",
       "    'data': [{'name': 'A', 'type': 'bar', 'uid': 'ed102486-55ef-11e8-a223-a0999b0c017b', 'y':…"
      ]
     },
     "metadata": {},
     "output_type": "display_data"
    }
   ],
   "source": [
    "format_for_print(fig, '../figures/fig_D.pdf')"
   ]
  },
  {
   "cell_type": "code",
   "execution_count": 256,
   "metadata": {
    "code_folding": []
   },
   "outputs": [
    {
     "data": {
      "text/plain": [
       "{'data': [{'marker': {'size': 12},\n",
       "   'name': 'B',\n",
       "   'type': 'scatter',\n",
       "   'uid': 'ec8dde2c-55ef-11e8-b400-a0999b0c017b',\n",
       "   'y': [3, 1, 2]},\n",
       "  {'name': 'A',\n",
       "   'type': 'bar',\n",
       "   'uid': 'ebe0bb66-55ef-11e8-8a46-a0999b0c017b',\n",
       "   'y': [2, 3, 1]}],\n",
       " 'layout': {'xaxis': {'range': [-1, 3], 'tickvals': [0, 1, 2]}}}"
      ]
     },
     "execution_count": 256,
     "metadata": {},
     "output_type": "execute_result"
    }
   ],
   "source": [
    "fig.data = [fig.data[1], fig.data[0]]  # [E]\n",
    "fig.to_plotly_json()"
   ]
  },
  {
   "cell_type": "code",
   "execution_count": 257,
   "metadata": {},
   "outputs": [
    {
     "data": {
      "application/vnd.jupyter.widget-view+json": {
       "model_id": "31e52ac3caa740c480f9ccc1f1844a55",
       "version_major": 2,
       "version_minor": 0
      },
      "text/plain": [
       "FigureWidget(**{\n",
       "    'data': [{'marker': {'size': 12},\n",
       "              'name': 'B',\n",
       "              'type': 'scatt…"
      ]
     },
     "metadata": {},
     "output_type": "display_data"
    }
   ],
   "source": [
    "format_for_print(fig, '../figures/fig_E.pdf')"
   ]
  },
  {
   "cell_type": "code",
   "execution_count": 258,
   "metadata": {
    "code_folding": []
   },
   "outputs": [
    {
     "data": {
      "text/plain": [
       "{'data': [{'marker': {'size': 12},\n",
       "   'name': 'B',\n",
       "   'type': 'scatter',\n",
       "   'uid': 'ec8dde2c-55ef-11e8-b400-a0999b0c017b',\n",
       "   'y': [3, 1, 2]}],\n",
       " 'layout': {'xaxis': {'range': [-1, 3], 'tickvals': [0, 1, 2]}}}"
      ]
     },
     "execution_count": 258,
     "metadata": {},
     "output_type": "execute_result"
    }
   ],
   "source": [
    "fig.data = [fig.data[0]]  # [F]\n",
    "fig.to_plotly_json()"
   ]
  },
  {
   "cell_type": "code",
   "execution_count": 259,
   "metadata": {},
   "outputs": [
    {
     "data": {
      "application/vnd.jupyter.widget-view+json": {
       "model_id": "fa417c41d5544405b5f9c053dd5e6db1",
       "version_major": 2,
       "version_minor": 0
      },
      "text/plain": [
       "FigureWidget(**{\n",
       "    'data': [{'marker': {'size': 12},\n",
       "              'name': 'B',\n",
       "              'type': 'scatt…"
      ]
     },
     "metadata": {},
     "output_type": "display_data"
    }
   ],
   "source": [
    "format_for_print(fig, '../figures/fig_F.pdf')"
   ]
  },
  {
   "cell_type": "code",
   "execution_count": 260,
   "metadata": {},
   "outputs": [
    {
     "data": {
      "application/vnd.jupyter.widget-view+json": {
       "model_id": "de5631c780444496809dcdc609dea4a2",
       "version_major": 2,
       "version_minor": 0
      },
      "text/plain": [
       "FigureWidget(**{\n",
       "    'data': [{'marker': {'size': 12},\n",
       "              'name': 'B',\n",
       "              'type': 'scatt…"
      ]
     },
     "metadata": {},
     "output_type": "display_data"
    }
   ],
   "source": [
    "fig"
   ]
  },
  {
   "cell_type": "code",
   "execution_count": 261,
   "metadata": {},
   "outputs": [
    {
     "data": {
      "text/plain": [
       "{'data': [{'marker': {'size': 12},\n",
       "   'name': 'B',\n",
       "   'type': 'scatter',\n",
       "   'uid': 'ec8dde2c-55ef-11e8-b400-a0999b0c017b',\n",
       "   'y': [3, 1, 2]}],\n",
       " 'layout': {'xaxis': {'range': [-2, 4], 'tickvals': [0, 1, 2]},\n",
       "  'yaxis': {'range': [-3, 5]}}}"
      ]
     },
     "execution_count": 261,
     "metadata": {},
     "output_type": "execute_result"
    }
   ],
   "source": [
    "with fig.batch_animate():  # [G]\n",
    "    fig.layout.xaxis.range = [-2, 4]\n",
    "    fig.layout.yaxis.range = [-3, 5]\n",
    "fig.to_plotly_json()"
   ]
  },
  {
   "cell_type": "code",
   "execution_count": 262,
   "metadata": {},
   "outputs": [
    {
     "data": {
      "application/vnd.jupyter.widget-view+json": {
       "model_id": "876bfe128cc94e2fb2b21af1e7d9e311",
       "version_major": 2,
       "version_minor": 0
      },
      "text/plain": [
       "FigureWidget(**{\n",
       "    'data': [{'marker': {'size': 12},\n",
       "              'name': 'B',\n",
       "              'type': 'scatt…"
      ]
     },
     "metadata": {},
     "output_type": "display_data"
    }
   ],
   "source": [
    "format_for_print(fig, '../figures/fig_G.pdf')"
   ]
  },
  {
   "cell_type": "code",
   "execution_count": 266,
   "metadata": {},
   "outputs": [
    {
     "data": {
      "text/plain": [
       "{'data': [{'name': 'A', 'type': 'bar', 'y': [2, 3, 1]},\n",
       "  {'marker': {'size': 12}, 'name': 'B', 'type': 'scatter', 'y': [3, 1, 2]}],\n",
       " 'layout': {'xaxis': {'range': [-1, 3], 'tickvals': [0, 1, 2]}}}"
      ]
     },
     "execution_count": 266,
     "metadata": {},
     "output_type": "execute_result"
    }
   ],
   "source": [
    "{'data': [\n",
    "    {'type': 'bar',\n",
    "     'y': [2, 3, 1],\n",
    "     'name': 'A',},\n",
    "    {'type': 'scatter',\n",
    "     'y': [3, 1, 2],\n",
    "     'name': 'B',\n",
    "     'marker': {'size': 12},\n",
    "    }],\n",
    " 'layout': {'xaxis':\n",
    "            {'range': [-1, 3],\n",
    "             'tickvals': [0, 1, 2]}}}"
   ]
  },
  {
   "cell_type": "code",
   "execution_count": 268,
   "metadata": {},
   "outputs": [
    {
     "data": {
      "text/plain": [
       "{'data': [{'marker': {'size': 12},\n",
       "   'name': 'B',\n",
       "   'type': 'scatter',\n",
       "   'y': [3, 1, 2]},\n",
       "  {'name': 'A', 'type': 'bar', 'y': [2, 3, 1]}],\n",
       " 'layout': {'xaxis': {'range': [-1, 3], 'tickvals': [0, 1, 2]}}}"
      ]
     },
     "execution_count": 268,
     "metadata": {},
     "output_type": "execute_result"
    }
   ],
   "source": [
    "{'data': [\n",
    "    {'type': 'scatter',\n",
    "     'y': [3, 1, 2],\n",
    "     'name': 'B',\n",
    "     'marker': {'size': 12},\n",
    "    },\n",
    "    {'type': 'bar',\n",
    "     'y': [2, 3, 1],\n",
    "     'name': 'A',}],\n",
    " 'layout': {'xaxis':\n",
    "            {'range': [-1, 3],\n",
    "             'tickvals': [0, 1, 2]}}}"
   ]
  },
  {
   "cell_type": "code",
   "execution_count": 269,
   "metadata": {},
   "outputs": [
    {
     "data": {
      "text/plain": [
       "{'data': [{'marker': {'size': 12},\n",
       "   'name': 'B',\n",
       "   'type': 'scatter',\n",
       "   'y': [3, 1, 2]}],\n",
       " 'layout': {'xaxis': {'range': [-1, 3], 'tickvals': [0, 1, 2]},\n",
       "  'yaxis': {'range': [-3, 5]}}}"
      ]
     },
     "execution_count": 269,
     "metadata": {},
     "output_type": "execute_result"
    }
   ],
   "source": [
    "{'data': [\n",
    "       {'type': 'scatter',\n",
    "        'y': [3, 1, 2],\n",
    "        'name': 'B',\n",
    "        'marker': {'size': 12}}],\n",
    "    'layout': {'xaxis':\n",
    "               {'range': [-1, 3],\n",
    "                'tickvals': [0, 1, 2]},\n",
    "               'yaxis': \n",
    "               {'range': [-3, 5]}}}"
   ]
  },
  {
   "cell_type": "code",
   "execution_count": null,
   "metadata": {},
   "outputs": [],
   "source": []
  }
 ],
 "metadata": {
  "kernelspec": {
   "display_name": "Python 3",
   "language": "python",
   "name": "python3"
  },
  "language_info": {
   "codemirror_mode": {
    "name": "ipython",
    "version": 3
   },
   "file_extension": ".py",
   "mimetype": "text/x-python",
   "name": "python",
   "nbconvert_exporter": "python",
   "pygments_lexer": "ipython3",
   "version": "3.6.4"
  }
 },
 "nbformat": 4,
 "nbformat_minor": 2
}
