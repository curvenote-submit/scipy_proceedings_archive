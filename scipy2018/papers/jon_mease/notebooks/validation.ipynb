{
 "cells": [
  {
   "cell_type": "code",
   "execution_count": 18,
   "metadata": {},
   "outputs": [],
   "source": [
    "def format_for_print(orig_fig, save_path=None):\n",
    "    fig = go.FigureWidget(orig_fig)\n",
    "    with fig.batch_update():\n",
    "        fig.layout.height = 250\n",
    "        fig.layout.width = 400\n",
    "        fig.layout.margin.l = 20\n",
    "        fig.layout.margin.t = 50\n",
    "        fig.layout.margin.b = 20\n",
    "        fig.layout.margin.r = 20\n",
    "\n",
    "    display(fig)\n",
    "    if save_path:\n",
    "        fig.save_image(save_path)"
   ]
  },
  {
   "cell_type": "code",
   "execution_count": 19,
   "metadata": {},
   "outputs": [
    {
     "data": {
      "application/vnd.jupyter.widget-view+json": {
       "model_id": "012079eb407240d4a7727f885aa09cfd",
       "version_major": 2,
       "version_minor": 0
      },
      "text/plain": [
       "FigureWidget(**{\n",
       "    'data': [{'type': 'scatter', 'uid': '7740c358-578b-11e8-8244-a0999b0c017b', 'y': [3, 1, 2…"
      ]
     },
     "metadata": {},
     "output_type": "display_data"
    },
    {
     "name": "stdout",
     "output_type": "stream",
     "text": [
      "new x-range: (-0.004828106915509278, 0.9951718930844908)\n",
      "new y-range: (0.8535031847133758, 3.1464968152866244)\n",
      "new x-range: (-0.12852664576802508, 2.128526645768025)\n",
      "new y-range: (0.8535031847133758, 3.1464968152866244)\n"
     ]
    }
   ],
   "source": [
    "import plotly.graph_objs as go\n",
    "from IPython.display import display\n",
    "fig = go.FigureWidget(\n",
    "    data=[go.Scatter(y=[3, 1, 2])],\n",
    "                          layout={'xaxis': {'range': [-1, 3]}})\n",
    "\n",
    "def handle_zoom(layout, xrange, yrange):\n",
    "    print('new x-range:', xrange)\n",
    "    print('new y-range:', yrange)\n",
    "\n",
    "fig.layout.on_change(handle_zoom, \n",
    "                     'xaxis.range', 'yaxis.range')\n",
    "fig"
   ]
  },
  {
   "cell_type": "code",
   "execution_count": 16,
   "metadata": {},
   "outputs": [
    {
     "data": {
      "application/vnd.jupyter.widget-view+json": {
       "model_id": "e39e13a408404fc59e09bef8a6d6f05e",
       "version_major": 2,
       "version_minor": 0
      },
      "text/plain": [
       "FigureWidget(**{\n",
       "    'data': [{'type': 'scatter', 'uid': '4fc343e2-578a-11e8-8b00-a0999b0c017b', 'y': [3, 1, 2…"
      ]
     },
     "metadata": {},
     "output_type": "display_data"
    }
   ],
   "source": [
    "format_for_print(fig, '../figures/zoom_example.pdf')"
   ]
  },
  {
   "cell_type": "code",
   "execution_count": 8,
   "metadata": {},
   "outputs": [
    {
     "data": {
      "application/vnd.jupyter.widget-view+json": {
       "model_id": "ace84c42c8f6498e913e8c67f0850507",
       "version_major": 2,
       "version_minor": 0
      },
      "text/plain": [
       "FigureWidget(**{\n",
       "    'data': [{'type': 'scatter', 'uid': 'ed26f2e4-5787-11e8-b42e-a0999b0c017b', 'y': [3, 1, 2…"
      ]
     },
     "metadata": {},
     "output_type": "display_data"
    }
   ],
   "source": [
    "import plotly.graph_objs as go\n",
    "from IPython.display import display\n",
    "fig = go.FigureWidget(data=[go.Scatter(y=[3, 1, 2])],\n",
    "                      layout={'xaxis': {'range': [-1, 3]}})\n",
    "fig"
   ]
  },
  {
   "cell_type": "code",
   "execution_count": 5,
   "metadata": {
    "scrolled": false
   },
   "outputs": [],
   "source": []
  },
  {
   "cell_type": "code",
   "execution_count": 6,
   "metadata": {},
   "outputs": [
    {
     "data": {
      "application/vnd.jupyter.widget-view+json": {
       "model_id": "b0316f60c36b48bba3df33af6f2b9c94",
       "version_major": 2,
       "version_minor": 0
      },
      "text/plain": [
       "FigureWidget(**{\n",
       "    'data': [{'type': 'scatter', 'uid': '65ee9034-5787-11e8-8d03-a0999b0c017b', 'y': [3, 1, 2…"
      ]
     },
     "metadata": {},
     "output_type": "display_data"
    }
   ],
   "source": [
    "format_for_print(fig)"
   ]
  },
  {
   "cell_type": "code",
   "execution_count": null,
   "metadata": {},
   "outputs": [],
   "source": []
  }
 ],
 "metadata": {
  "kernelspec": {
   "display_name": "Python 3",
   "language": "python",
   "name": "python3"
  },
  "language_info": {
   "codemirror_mode": {
    "name": "ipython",
    "version": 3
   },
   "file_extension": ".py",
   "mimetype": "text/x-python",
   "name": "python",
   "nbconvert_exporter": "python",
   "pygments_lexer": "ipython3",
   "version": "3.6.4"
  }
 },
 "nbformat": 4,
 "nbformat_minor": 2
}
