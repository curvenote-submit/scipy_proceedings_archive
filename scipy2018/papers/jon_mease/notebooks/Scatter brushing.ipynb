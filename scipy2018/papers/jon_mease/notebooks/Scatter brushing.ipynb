{
 "cells": [
  {
   "cell_type": "code",
   "execution_count": 4,
   "metadata": {},
   "outputs": [],
   "source": [
    "# plotly\n",
    "import plotly.graph_objs as go\n",
    "\n",
    "# numpy\n",
    "import numpy as np"
   ]
  },
  {
   "cell_type": "code",
   "execution_count": 12,
   "metadata": {},
   "outputs": [
    {
     "data": {
      "application/vnd.jupyter.widget-view+json": {
       "model_id": "eaf860a3c6104bdc87c1301553044bb0",
       "version_major": 2,
       "version_minor": 0
      },
      "text/plain": [
       "FigureWidget(**{\n",
       "    'data': [{'marker': {'cmax': 1,\n",
       "                         'cmin': 0,\n",
       "                     …"
      ]
     },
     "metadata": {},
     "output_type": "display_data"
    }
   ],
   "source": [
    "N = 100000\n",
    "fig = go.FigureWidget(\n",
    "    data = [\n",
    "        go.Scattergl(\n",
    "            x = np.random.randn(N), \n",
    "            y = np.random.randn(N),\n",
    "            mode = 'markers',\n",
    "            marker={'color': np.zeros(N),  \n",
    "                    'opacity': 0.6,\n",
    "                    'cmin': 0, 'cmax': 1,\n",
    "                    'line': {'width': 1},\n",
    "                    'showscale': True})],\n",
    "    layout = {'width': 500,\n",
    "              'height': 500})\n",
    "fig"
   ]
  },
  {
   "cell_type": "code",
   "execution_count": 13,
   "metadata": {},
   "outputs": [],
   "source": [
    "def brush(trace, points, *_):\n",
    "    print('start')\n",
    "    inds = np.array(points.point_inds)\n",
    "    selected = np.zeros(N)\n",
    "    if inds.size:\n",
    "        selected[inds] = 1\n",
    "    print('set')\n",
    "    trace.marker.color = selected\n",
    "        \n",
    "fig.data[0].on_selection(brush)"
   ]
  },
  {
   "cell_type": "code",
   "execution_count": 59,
   "metadata": {},
   "outputs": [],
   "source": [
    "fig.save_image('../figures/selection_orig.pdf')"
   ]
  },
  {
   "cell_type": "code",
   "execution_count": 61,
   "metadata": {},
   "outputs": [],
   "source": [
    "fig.save_image('../figures/selection_colored.pdf')"
   ]
  },
  {
   "cell_type": "code",
   "execution_count": 54,
   "metadata": {},
   "outputs": [
    {
     "data": {
      "text/plain": [
       "((0, 'rgb(220,220,220)'),\n",
       " (0.2, 'rgb(245,195,157)'),\n",
       " (0.4, 'rgb(245,160,105)'),\n",
       " (1, 'rgb(178,10,28)'))"
      ]
     },
     "execution_count": 54,
     "metadata": {},
     "output_type": "execute_result"
    }
   ],
   "source": [
    "fig.data[0].marker.colorscale"
   ]
  },
  {
   "cell_type": "code",
   "execution_count": null,
   "metadata": {},
   "outputs": [],
   "source": []
  }
 ],
 "metadata": {
  "kernelspec": {
   "display_name": "Python 3",
   "language": "python",
   "name": "python3"
  },
  "language_info": {
   "codemirror_mode": {
    "name": "ipython",
    "version": 3
   },
   "file_extension": ".py",
   "mimetype": "text/x-python",
   "name": "python",
   "nbconvert_exporter": "python",
   "pygments_lexer": "ipython3",
   "version": "3.6.4"
  }
 },
 "nbformat": 4,
 "nbformat_minor": 2
}
